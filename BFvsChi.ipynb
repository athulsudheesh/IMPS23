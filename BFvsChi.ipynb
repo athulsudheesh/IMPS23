{
 "cells": [
  {
   "cell_type": "code",
   "execution_count": 122,
   "metadata": {
    "vscode": {
     "languageId": "r"
    }
   },
   "outputs": [],
   "source": [
    "library(GDINA);\n",
    "library(bnlearn);\n",
    "library(caret)\n",
    "library(bayestestR)"
   ]
  },
  {
   "cell_type": "code",
   "execution_count": 128,
   "metadata": {
    "vscode": {
     "languageId": "r"
    }
   },
   "outputs": [
    {
     "data": {
      "text/html": [
       "<dl>\n",
       "\t<dt>$dat</dt>\n",
       "\t\t<dd><table class=\"dataframe\">\n",
       "<caption>A matrix: 10 × 20 of type dbl</caption>\n",
       "<thead>\n",
       "\t<tr><th scope=col>I001</th><th scope=col>I002</th><th scope=col>I003</th><th scope=col>I004</th><th scope=col>I005</th><th scope=col>I006</th><th scope=col>I007</th><th scope=col>I008</th><th scope=col>I009</th><th scope=col>I010</th><th scope=col>I011</th><th scope=col>I012</th><th scope=col>I013</th><th scope=col>I014</th><th scope=col>I015</th><th scope=col>I016</th><th scope=col>I017</th><th scope=col>I018</th><th scope=col>I019</th><th scope=col>I020</th></tr>\n",
       "</thead>\n",
       "<tbody>\n",
       "\t<tr><td>1</td><td>0</td><td>1</td><td>1</td><td>0</td><td>1</td><td>0</td><td>0</td><td>1</td><td>1</td><td>0</td><td>0</td><td>0</td><td>0</td><td>1</td><td>1</td><td>1</td><td>0</td><td>0</td><td>0</td></tr>\n",
       "\t<tr><td>1</td><td>0</td><td>1</td><td>0</td><td>0</td><td>1</td><td>1</td><td>0</td><td>1</td><td>0</td><td>0</td><td>1</td><td>0</td><td>0</td><td>1</td><td>1</td><td>1</td><td>1</td><td>0</td><td>0</td></tr>\n",
       "\t<tr><td>0</td><td>0</td><td>1</td><td>0</td><td>0</td><td>0</td><td>0</td><td>1</td><td>1</td><td>1</td><td>0</td><td>1</td><td>0</td><td>0</td><td>1</td><td>0</td><td>0</td><td>0</td><td>0</td><td>0</td></tr>\n",
       "\t<tr><td>1</td><td>0</td><td>1</td><td>1</td><td>1</td><td>0</td><td>0</td><td>0</td><td>1</td><td>1</td><td>1</td><td>1</td><td>1</td><td>0</td><td>1</td><td>0</td><td>0</td><td>0</td><td>0</td><td>1</td></tr>\n",
       "\t<tr><td>0</td><td>0</td><td>0</td><td>0</td><td>0</td><td>0</td><td>1</td><td>0</td><td>1</td><td>0</td><td>0</td><td>1</td><td>0</td><td>1</td><td>0</td><td>1</td><td>0</td><td>0</td><td>1</td><td>1</td></tr>\n",
       "\t<tr><td>0</td><td>1</td><td>1</td><td>0</td><td>0</td><td>0</td><td>1</td><td>1</td><td>1</td><td>0</td><td>1</td><td>0</td><td>0</td><td>0</td><td>1</td><td>0</td><td>0</td><td>1</td><td>1</td><td>0</td></tr>\n",
       "\t<tr><td>0</td><td>0</td><td>0</td><td>1</td><td>0</td><td>0</td><td>0</td><td>0</td><td>0</td><td>0</td><td>0</td><td>0</td><td>0</td><td>0</td><td>0</td><td>0</td><td>0</td><td>0</td><td>1</td><td>1</td></tr>\n",
       "\t<tr><td>1</td><td>1</td><td>1</td><td>1</td><td>0</td><td>0</td><td>1</td><td>0</td><td>1</td><td>0</td><td>0</td><td>0</td><td>1</td><td>0</td><td>0</td><td>1</td><td>0</td><td>0</td><td>1</td><td>0</td></tr>\n",
       "\t<tr><td>1</td><td>1</td><td>0</td><td>1</td><td>1</td><td>1</td><td>0</td><td>0</td><td>1</td><td>0</td><td>0</td><td>1</td><td>0</td><td>1</td><td>0</td><td>0</td><td>1</td><td>1</td><td>0</td><td>0</td></tr>\n",
       "\t<tr><td>1</td><td>0</td><td>0</td><td>1</td><td>0</td><td>0</td><td>1</td><td>0</td><td>1</td><td>1</td><td>0</td><td>0</td><td>0</td><td>0</td><td>1</td><td>1</td><td>1</td><td>0</td><td>1</td><td>0</td></tr>\n",
       "</tbody>\n",
       "</table>\n",
       "</dd>\n",
       "\t<dt>$alpha</dt>\n",
       "\t\t<dd><table class=\"dataframe\">\n",
       "<caption>A matrix: 10 × 5 of type dbl</caption>\n",
       "<tbody>\n",
       "\t<tr><td>0</td><td>0</td><td>0</td><td>0</td><td>1</td></tr>\n",
       "\t<tr><td>1</td><td>0</td><td>1</td><td>1</td><td>0</td></tr>\n",
       "\t<tr><td>0</td><td>1</td><td>0</td><td>1</td><td>0</td></tr>\n",
       "\t<tr><td>1</td><td>1</td><td>1</td><td>0</td><td>1</td></tr>\n",
       "\t<tr><td>1</td><td>0</td><td>0</td><td>1</td><td>0</td></tr>\n",
       "\t<tr><td>0</td><td>1</td><td>1</td><td>1</td><td>0</td></tr>\n",
       "\t<tr><td>0</td><td>0</td><td>0</td><td>1</td><td>0</td></tr>\n",
       "\t<tr><td>1</td><td>0</td><td>1</td><td>1</td><td>0</td></tr>\n",
       "\t<tr><td>1</td><td>1</td><td>1</td><td>0</td><td>1</td></tr>\n",
       "\t<tr><td>1</td><td>0</td><td>0</td><td>1</td><td>0</td></tr>\n",
       "</tbody>\n",
       "</table>\n",
       "</dd>\n",
       "</dl>\n"
      ],
      "text/latex": [
       "\\begin{description}\n",
       "\\item[\\$dat] A matrix: 10 × 20 of type dbl\n",
       "\\begin{tabular}{llllllllllllllllllll}\n",
       " I001 & I002 & I003 & I004 & I005 & I006 & I007 & I008 & I009 & I010 & I011 & I012 & I013 & I014 & I015 & I016 & I017 & I018 & I019 & I020\\\\\n",
       "\\hline\n",
       "\t 1 & 0 & 1 & 1 & 0 & 1 & 0 & 0 & 1 & 1 & 0 & 0 & 0 & 0 & 1 & 1 & 1 & 0 & 0 & 0\\\\\n",
       "\t 1 & 0 & 1 & 0 & 0 & 1 & 1 & 0 & 1 & 0 & 0 & 1 & 0 & 0 & 1 & 1 & 1 & 1 & 0 & 0\\\\\n",
       "\t 0 & 0 & 1 & 0 & 0 & 0 & 0 & 1 & 1 & 1 & 0 & 1 & 0 & 0 & 1 & 0 & 0 & 0 & 0 & 0\\\\\n",
       "\t 1 & 0 & 1 & 1 & 1 & 0 & 0 & 0 & 1 & 1 & 1 & 1 & 1 & 0 & 1 & 0 & 0 & 0 & 0 & 1\\\\\n",
       "\t 0 & 0 & 0 & 0 & 0 & 0 & 1 & 0 & 1 & 0 & 0 & 1 & 0 & 1 & 0 & 1 & 0 & 0 & 1 & 1\\\\\n",
       "\t 0 & 1 & 1 & 0 & 0 & 0 & 1 & 1 & 1 & 0 & 1 & 0 & 0 & 0 & 1 & 0 & 0 & 1 & 1 & 0\\\\\n",
       "\t 0 & 0 & 0 & 1 & 0 & 0 & 0 & 0 & 0 & 0 & 0 & 0 & 0 & 0 & 0 & 0 & 0 & 0 & 1 & 1\\\\\n",
       "\t 1 & 1 & 1 & 1 & 0 & 0 & 1 & 0 & 1 & 0 & 0 & 0 & 1 & 0 & 0 & 1 & 0 & 0 & 1 & 0\\\\\n",
       "\t 1 & 1 & 0 & 1 & 1 & 1 & 0 & 0 & 1 & 0 & 0 & 1 & 0 & 1 & 0 & 0 & 1 & 1 & 0 & 0\\\\\n",
       "\t 1 & 0 & 0 & 1 & 0 & 0 & 1 & 0 & 1 & 1 & 0 & 0 & 0 & 0 & 1 & 1 & 1 & 0 & 1 & 0\\\\\n",
       "\\end{tabular}\n",
       "\n",
       "\\item[\\$alpha] A matrix: 10 × 5 of type dbl\n",
       "\\begin{tabular}{lllll}\n",
       "\t 0 & 0 & 0 & 0 & 1\\\\\n",
       "\t 1 & 0 & 1 & 1 & 0\\\\\n",
       "\t 0 & 1 & 0 & 1 & 0\\\\\n",
       "\t 1 & 1 & 1 & 0 & 1\\\\\n",
       "\t 1 & 0 & 0 & 1 & 0\\\\\n",
       "\t 0 & 1 & 1 & 1 & 0\\\\\n",
       "\t 0 & 0 & 0 & 1 & 0\\\\\n",
       "\t 1 & 0 & 1 & 1 & 0\\\\\n",
       "\t 1 & 1 & 1 & 0 & 1\\\\\n",
       "\t 1 & 0 & 0 & 1 & 0\\\\\n",
       "\\end{tabular}\n",
       "\n",
       "\\end{description}\n"
      ],
      "text/markdown": [
       "$dat\n",
       ":   \n",
       "A matrix: 10 × 20 of type dbl\n",
       "\n",
       "| I001 | I002 | I003 | I004 | I005 | I006 | I007 | I008 | I009 | I010 | I011 | I012 | I013 | I014 | I015 | I016 | I017 | I018 | I019 | I020 |\n",
       "|---|---|---|---|---|---|---|---|---|---|---|---|---|---|---|---|---|---|---|---|\n",
       "| 1 | 0 | 1 | 1 | 0 | 1 | 0 | 0 | 1 | 1 | 0 | 0 | 0 | 0 | 1 | 1 | 1 | 0 | 0 | 0 |\n",
       "| 1 | 0 | 1 | 0 | 0 | 1 | 1 | 0 | 1 | 0 | 0 | 1 | 0 | 0 | 1 | 1 | 1 | 1 | 0 | 0 |\n",
       "| 0 | 0 | 1 | 0 | 0 | 0 | 0 | 1 | 1 | 1 | 0 | 1 | 0 | 0 | 1 | 0 | 0 | 0 | 0 | 0 |\n",
       "| 1 | 0 | 1 | 1 | 1 | 0 | 0 | 0 | 1 | 1 | 1 | 1 | 1 | 0 | 1 | 0 | 0 | 0 | 0 | 1 |\n",
       "| 0 | 0 | 0 | 0 | 0 | 0 | 1 | 0 | 1 | 0 | 0 | 1 | 0 | 1 | 0 | 1 | 0 | 0 | 1 | 1 |\n",
       "| 0 | 1 | 1 | 0 | 0 | 0 | 1 | 1 | 1 | 0 | 1 | 0 | 0 | 0 | 1 | 0 | 0 | 1 | 1 | 0 |\n",
       "| 0 | 0 | 0 | 1 | 0 | 0 | 0 | 0 | 0 | 0 | 0 | 0 | 0 | 0 | 0 | 0 | 0 | 0 | 1 | 1 |\n",
       "| 1 | 1 | 1 | 1 | 0 | 0 | 1 | 0 | 1 | 0 | 0 | 0 | 1 | 0 | 0 | 1 | 0 | 0 | 1 | 0 |\n",
       "| 1 | 1 | 0 | 1 | 1 | 1 | 0 | 0 | 1 | 0 | 0 | 1 | 0 | 1 | 0 | 0 | 1 | 1 | 0 | 0 |\n",
       "| 1 | 0 | 0 | 1 | 0 | 0 | 1 | 0 | 1 | 1 | 0 | 0 | 0 | 0 | 1 | 1 | 1 | 0 | 1 | 0 |\n",
       "\n",
       "\n",
       "$alpha\n",
       ":   \n",
       "A matrix: 10 × 5 of type dbl\n",
       "\n",
       "| 0 | 0 | 0 | 0 | 1 |\n",
       "| 1 | 0 | 1 | 1 | 0 |\n",
       "| 0 | 1 | 0 | 1 | 0 |\n",
       "| 1 | 1 | 1 | 0 | 1 |\n",
       "| 1 | 0 | 0 | 1 | 0 |\n",
       "| 0 | 1 | 1 | 1 | 0 |\n",
       "| 0 | 0 | 0 | 1 | 0 |\n",
       "| 1 | 0 | 1 | 1 | 0 |\n",
       "| 1 | 1 | 1 | 0 | 1 |\n",
       "| 1 | 0 | 0 | 1 | 0 |\n",
       "\n",
       "\n",
       "\n",
       "\n"
      ],
      "text/plain": [
       "$dat\n",
       "      I001 I002 I003 I004 I005 I006 I007 I008 I009 I010 I011 I012 I013 I014\n",
       " [1,]    1    0    1    1    0    1    0    0    1    1    0    0    0    0\n",
       " [2,]    1    0    1    0    0    1    1    0    1    0    0    1    0    0\n",
       " [3,]    0    0    1    0    0    0    0    1    1    1    0    1    0    0\n",
       " [4,]    1    0    1    1    1    0    0    0    1    1    1    1    1    0\n",
       " [5,]    0    0    0    0    0    0    1    0    1    0    0    1    0    1\n",
       " [6,]    0    1    1    0    0    0    1    1    1    0    1    0    0    0\n",
       " [7,]    0    0    0    1    0    0    0    0    0    0    0    0    0    0\n",
       " [8,]    1    1    1    1    0    0    1    0    1    0    0    0    1    0\n",
       " [9,]    1    1    0    1    1    1    0    0    1    0    0    1    0    1\n",
       "[10,]    1    0    0    1    0    0    1    0    1    1    0    0    0    0\n",
       "      I015 I016 I017 I018 I019 I020\n",
       " [1,]    1    1    1    0    0    0\n",
       " [2,]    1    1    1    1    0    0\n",
       " [3,]    1    0    0    0    0    0\n",
       " [4,]    1    0    0    0    0    1\n",
       " [5,]    0    1    0    0    1    1\n",
       " [6,]    1    0    0    1    1    0\n",
       " [7,]    0    0    0    0    1    1\n",
       " [8,]    0    1    0    0    1    0\n",
       " [9,]    0    0    1    1    0    0\n",
       "[10,]    1    1    1    0    1    0\n",
       "\n",
       "$alpha\n",
       "      [,1] [,2] [,3] [,4] [,5]\n",
       " [1,]    0    0    0    0    1\n",
       " [2,]    1    0    1    1    0\n",
       " [3,]    0    1    0    1    0\n",
       " [4,]    1    1    1    0    1\n",
       " [5,]    1    0    0    1    0\n",
       " [6,]    0    1    1    1    0\n",
       " [7,]    0    0    0    1    0\n",
       " [8,]    1    0    1    1    0\n",
       " [9,]    1    1    1    0    1\n",
       "[10,]    1    0    0    1    0\n"
      ]
     },
     "metadata": {},
     "output_type": "display_data"
    }
   ],
   "source": [
    "simdat"
   ]
  },
  {
   "cell_type": "code",
   "execution_count": 123,
   "metadata": {
    "vscode": {
     "languageId": "r"
    }
   },
   "outputs": [],
   "source": [
    "sigma <- matrix(rep(0.3, times=25), ncol=5)\n",
    "diag(sigma) <- 1\n",
    "QMat <- read.csv(\"q.csv\")\n",
    "guess <- rep(0.3, nrow(QMat));\n",
    "\n",
    "simdat <- CDM::sim.din(N=10,\n",
    "                        QMat, guess = guess, slip = guess,\n",
    "                        Sigma=sigma, rule=\"DINA\")\n",
    "\n",
    "obs<-simdat$dat\n",
    "colnames(obs) <- c(\"x1\", \"x2\", \"x3\",\"x4\", \"x5\",\n",
    "                    \"x6\", \"x7\", \"x8\", \"x9\", \"x10\",\n",
    "                    \"x11\", \"x12\", \"x13\", \"x14\", \"x15\",\n",
    "                    \"x16\", \"x17\", \"x18\", \"x19\", \"x20\")\n",
    "obsdf<- as.data.frame(lapply(as.data.frame(obs),factor))\n",
    "\n",
    "\n",
    "## This block needs some code cleaning\n",
    "fulldat <- cbind(simdat$dat, simdat$alpha)\n",
    "colnames(fulldat)<- c(\"x1\", \"x2\", \"x3\",\"x4\", \"x5\",\n",
    "                    \"x6\", \"x7\", \"x8\", \"x9\", \"x10\",\n",
    "                    \"x11\", \"x12\", \"x13\", \"x14\", \"x15\",\n",
    "                    \"x16\", \"x17\", \"x18\", \"x19\", \"x20\",\n",
    "                    \"a1\", \"a2\",\"a3\",\"a4\",\"a5\")\n",
    "#fulldat[, colnames(fulldat)] = lapply(fulldat[, colnames(fulldat)], as.factor)\n",
    "fdf <- as.data.frame(fulldat)\n",
    "factoreddata <- data.frame(lapply(fdf, factor))\n",
    "\n",
    "rownames(QMat) <- colnames(obsdf)\n",
    "colnames(QMat) <- c(\"a1\", \"a2\", \"a3\", \"a4\", \"a5\")\n",
    "items <- rownames(QMat)\n",
    "\n",
    "skills <- colnames(QMat)\n",
    "\n",
    "itemnames <- rownames(QMat)\n",
    "itemcomb <- t(combn(itemnames,2))"
   ]
  },
  {
   "cell_type": "code",
   "execution_count": 117,
   "metadata": {
    "vscode": {
     "languageId": "r"
    }
   },
   "outputs": [],
   "source": [
    "check_ind <- function(test_type){\n",
    "    cf = list()\n",
    "    # Testing when link is present\n",
    "    # Items that share an attribute should be correlated\n",
    "    for (i in 1:ncol(QMat)){\n",
    "        corr_items <-items[as.logical(QMat[,i])]\n",
    "        test_set <- as.data.frame(t(combn(corr_items,2)))\n",
    "\n",
    "        for (i in 1:nrow(test_set)){\n",
    "        testres <- ci.test(test_set$V1[i], test_set$V2[i], data =obsdf, test = test_type)\n",
    "            if (testres$p.val <= 0.05){\n",
    "            # The null hypothesis that the given set of nodes are independent\n",
    "            # When we have p <0.05, we reject the null\n",
    "                dep <- \"1\"\n",
    "            }\n",
    "            else {\n",
    "                dep <- \"0\"\n",
    "            }\n",
    "        cf <- rbind(cf,c(\"1\",dep))\n",
    "        }\n",
    "    }\n",
    "    # Testing when link is absent \n",
    "    # Theory says obs are independent after we condition on the common attribute  \n",
    "    for (i in 1:nrow(itemcomb)){\n",
    "        indc <- as.logical(QMat[itemcomb[i,][1],] * QMat[itemcomb[i,][2],])\n",
    "        tmp <- ci.test(itemcomb[i,][1], itemcomb[i,][2],skills[indc], \n",
    "                    test = test_type, data=factoreddata)\n",
    "        if(tmp$p.val <= 0.05){\n",
    "            dep <- \"1\" \n",
    "        }\n",
    "        else {\n",
    "        dep <-\"0\"\n",
    "        }\n",
    "        cf <- rbind(cf,c(\"0\",dep))\n",
    "    }\n",
    "    return(cf)\n",
    "}"
   ]
  },
  {
   "cell_type": "code",
   "execution_count": 124,
   "metadata": {
    "vscode": {
     "languageId": "r"
    }
   },
   "outputs": [],
   "source": [
    "check_bf <- function(){\n",
    "    cf = list()\n",
    "    # Testing when link is present\n",
    "    # Items that share an attribute should be correlated\n",
    "    for (i in 1:ncol(QMat)){\n",
    "        corr_items <-items[as.logical(QMat[,i])]\n",
    "        test_set <- as.data.frame(t(combn(corr_items,2)))\n",
    "\n",
    "        for (i in 1:nrow(test_set)){\n",
    "        m1 <- glm(get(test_set$V1[i])~ 1 + get(test_set$V2[i]), data = as.data.frame(obs), family = \"binomial\")\n",
    "        m2 <- glm(get(test_set$V1[i])~ 1, data = as.data.frame(obs), family = \"binomial\")\n",
    "        m1bic <- -2*as.numeric(logLik(m1))\n",
    "        m2bic <- -2*as.numeric(logLik(m2))\n",
    "        bf <- bic_to_bf(m2bic, denominator = m1bic)\n",
    "    \n",
    "            if (bf > 0){\n",
    "            # The null hypothesis that the given set of nodes are independent\n",
    "            # When we have p <0.05, we reject the null\n",
    "                dep <- \"1\"\n",
    "            }\n",
    "            else {\n",
    "                dep <- \"0\"\n",
    "            }\n",
    "        cf <- rbind(cf,c(\"1\",dep))\n",
    "        }\n",
    "    }\n",
    "    # Testing when link is absent \n",
    "    # Theory says obs are independent after we condition on the common attribute  \n",
    "    for (i in 1:nrow(itemcomb)){\n",
    "        indc <- as.logical(QMat[itemcomb[i,][1],] * QMat[itemcomb[i,][2],])\n",
    "        \n",
    "        cond_set <- skills[indc]\n",
    "        features <- append(itemcomb[i,][2], cond_set)\n",
    "        features1 <- append(features,1)\n",
    "        target <- itemcomb[i,][1]\n",
    "        rhs<- paste(features1,collapse = \"+\")\n",
    "        f <- as.formula(paste(target, rhs, sep =\"~\"))\n",
    "        m2 <- glm(f, data = as.data.frame(fulldat), family = \"binomial\")\n",
    "\n",
    "\n",
    "        features0 <- append(cond_set,1)\n",
    "        rhs0<- paste(features0,collapse = \"+\")\n",
    "        f0 <- as.formula(paste(target, rhs0, sep =\"~\"))\n",
    "        m1 <- glm(f0, data = as.data.frame(fulldat), family = \"binomial\")\n",
    "        \n",
    "        # Here we are testing M1 [P(X1|skill)] against M2 [P(X1|X2,skill)]\n",
    "        # If bayesfactor prefer M1 over M2, that means X1 & X2 are independent given the common attribute\n",
    "        m1bic <- -2*as.numeric(logLik(m1))\n",
    "        m2bic <- -2*as.numeric(logLik(m2))\n",
    "        bf <- bic_to_bf(m2bic, denominator = m1bic)\n",
    "        if(bf < 0){\n",
    "            dep <- \"1\" \n",
    "        }\n",
    "        else {\n",
    "        dep <-\"0\"\n",
    "        }\n",
    "        cf <- rbind(cf,c(\"0\",dep))\n",
    "    }\n",
    "    return(cf)\n",
    "}"
   ]
  },
  {
   "cell_type": "code",
   "execution_count": 125,
   "metadata": {
    "vscode": {
     "languageId": "r"
    }
   },
   "outputs": [
    {
     "name": "stderr",
     "output_type": "stream",
     "text": [
      "Warning message:\n",
      "“glm.fit: fitted probabilities numerically 0 or 1 occurred”\n",
      "Warning message:\n",
      "“glm.fit: fitted probabilities numerically 0 or 1 occurred”\n",
      "Warning message:\n",
      "“glm.fit: fitted probabilities numerically 0 or 1 occurred”\n",
      "Warning message:\n",
      "“glm.fit: fitted probabilities numerically 0 or 1 occurred”\n",
      "Warning message:\n",
      "“glm.fit: fitted probabilities numerically 0 or 1 occurred”\n",
      "Warning message:\n",
      "“glm.fit: fitted probabilities numerically 0 or 1 occurred”\n",
      "Warning message:\n",
      "“glm.fit: fitted probabilities numerically 0 or 1 occurred”\n",
      "Warning message:\n",
      "“glm.fit: fitted probabilities numerically 0 or 1 occurred”\n",
      "Warning message:\n",
      "“glm.fit: fitted probabilities numerically 0 or 1 occurred”\n",
      "Warning message:\n",
      "“glm.fit: fitted probabilities numerically 0 or 1 occurred”\n",
      "Warning message:\n",
      "“glm.fit: fitted probabilities numerically 0 or 1 occurred”\n",
      "Warning message:\n",
      "“glm.fit: fitted probabilities numerically 0 or 1 occurred”\n",
      "Warning message:\n",
      "“glm.fit: fitted probabilities numerically 0 or 1 occurred”\n",
      "Warning message:\n",
      "“glm.fit: fitted probabilities numerically 0 or 1 occurred”\n",
      "Warning message:\n",
      "“glm.fit: fitted probabilities numerically 0 or 1 occurred”\n",
      "Warning message:\n",
      "“glm.fit: fitted probabilities numerically 0 or 1 occurred”\n",
      "Warning message:\n",
      "“glm.fit: fitted probabilities numerically 0 or 1 occurred”\n",
      "Warning message:\n",
      "“glm.fit: fitted probabilities numerically 0 or 1 occurred”\n",
      "Warning message:\n",
      "“glm.fit: fitted probabilities numerically 0 or 1 occurred”\n",
      "Warning message:\n",
      "“glm.fit: fitted probabilities numerically 0 or 1 occurred”\n",
      "Warning message:\n",
      "“glm.fit: fitted probabilities numerically 0 or 1 occurred”\n",
      "Warning message:\n",
      "“glm.fit: fitted probabilities numerically 0 or 1 occurred”\n",
      "Warning message:\n",
      "“glm.fit: fitted probabilities numerically 0 or 1 occurred”\n",
      "Warning message:\n",
      "“glm.fit: fitted probabilities numerically 0 or 1 occurred”\n",
      "Warning message:\n",
      "“glm.fit: fitted probabilities numerically 0 or 1 occurred”\n",
      "Warning message:\n",
      "“glm.fit: fitted probabilities numerically 0 or 1 occurred”\n",
      "Warning message:\n",
      "“glm.fit: fitted probabilities numerically 0 or 1 occurred”\n",
      "Warning message:\n",
      "“glm.fit: fitted probabilities numerically 0 or 1 occurred”\n",
      "Warning message:\n",
      "“glm.fit: fitted probabilities numerically 0 or 1 occurred”\n",
      "Warning message:\n",
      "“glm.fit: fitted probabilities numerically 0 or 1 occurred”\n",
      "Warning message:\n",
      "“glm.fit: fitted probabilities numerically 0 or 1 occurred”\n",
      "Warning message:\n",
      "“glm.fit: fitted probabilities numerically 0 or 1 occurred”\n",
      "Warning message:\n",
      "“glm.fit: fitted probabilities numerically 0 or 1 occurred”\n",
      "Warning message:\n",
      "“glm.fit: fitted probabilities numerically 0 or 1 occurred”\n",
      "Warning message:\n",
      "“glm.fit: fitted probabilities numerically 0 or 1 occurred”\n",
      "Warning message:\n",
      "“glm.fit: fitted probabilities numerically 0 or 1 occurred”\n",
      "Warning message:\n",
      "“glm.fit: fitted probabilities numerically 0 or 1 occurred”\n",
      "Warning message:\n",
      "“glm.fit: fitted probabilities numerically 0 or 1 occurred”\n",
      "Warning message:\n",
      "“glm.fit: fitted probabilities numerically 0 or 1 occurred”\n",
      "Warning message:\n",
      "“glm.fit: fitted probabilities numerically 0 or 1 occurred”\n",
      "Warning message:\n",
      "“glm.fit: fitted probabilities numerically 0 or 1 occurred”\n",
      "Warning message:\n",
      "“glm.fit: fitted probabilities numerically 0 or 1 occurred”\n",
      "Warning message:\n",
      "“glm.fit: fitted probabilities numerically 0 or 1 occurred”\n",
      "Warning message:\n",
      "“glm.fit: fitted probabilities numerically 0 or 1 occurred”\n",
      "Warning message:\n",
      "“glm.fit: fitted probabilities numerically 0 or 1 occurred”\n",
      "Warning message:\n",
      "“glm.fit: fitted probabilities numerically 0 or 1 occurred”\n",
      "Warning message:\n",
      "“glm.fit: fitted probabilities numerically 0 or 1 occurred”\n",
      "Warning message:\n",
      "“glm.fit: fitted probabilities numerically 0 or 1 occurred”\n",
      "Warning message:\n",
      "“glm.fit: fitted probabilities numerically 0 or 1 occurred”\n",
      "Warning message:\n",
      "“glm.fit: fitted probabilities numerically 0 or 1 occurred”\n",
      "Warning message:\n",
      "“glm.fit: fitted probabilities numerically 0 or 1 occurred”\n",
      "Warning message:\n",
      "“glm.fit: fitted probabilities numerically 0 or 1 occurred”\n"
     ]
    }
   ],
   "source": [
    "res <- check_bf()"
   ]
  },
  {
   "cell_type": "code",
   "execution_count": 126,
   "metadata": {
    "vscode": {
     "languageId": "r"
    }
   },
   "outputs": [],
   "source": [
    "trues<- as.data.frame(factor(res[,1], levels = c('1','0')))\n",
    "preds<- as.data.frame(factor(res[,2], levels = c('1','0')))\n",
    "cdf <- data.frame(trues,preds)\n",
    "colnames(cdf) <- c(\"true_val\", \"pred_val\")"
   ]
  },
  {
   "cell_type": "code",
   "execution_count": 127,
   "metadata": {
    "vscode": {
     "languageId": "r"
    }
   },
   "outputs": [
    {
     "data": {
      "text/plain": [
       "Confusion Matrix and Statistics\n",
       "\n",
       "          Reference\n",
       "Prediction   1   0\n",
       "         1 157   0\n",
       "         0   0 190\n",
       "                                     \n",
       "               Accuracy : 1          \n",
       "                 95% CI : (0.9894, 1)\n",
       "    No Information Rate : 0.5476     \n",
       "    P-Value [Acc > NIR] : < 2.2e-16  \n",
       "                                     \n",
       "                  Kappa : 1          \n",
       "                                     \n",
       " Mcnemar's Test P-Value : NA         \n",
       "                                     \n",
       "            Sensitivity : 1.0000     \n",
       "            Specificity : 1.0000     \n",
       "         Pos Pred Value : 1.0000     \n",
       "         Neg Pred Value : 1.0000     \n",
       "             Prevalence : 0.4524     \n",
       "         Detection Rate : 0.4524     \n",
       "   Detection Prevalence : 0.4524     \n",
       "      Balanced Accuracy : 1.0000     \n",
       "                                     \n",
       "       'Positive' Class : 1          \n",
       "                                     "
      ]
     },
     "metadata": {},
     "output_type": "display_data"
    }
   ],
   "source": [
    "confusionMatrix(data=cdf$pred_val, reference = cdf$true_val)"
   ]
  },
  {
   "cell_type": "code",
   "execution_count": 112,
   "metadata": {
    "vscode": {
     "languageId": "r"
    }
   },
   "outputs": [],
   "source": [
    "library(pROC)"
   ]
  },
  {
   "cell_type": "code",
   "execution_count": 113,
   "metadata": {
    "vscode": {
     "languageId": "r"
    }
   },
   "outputs": [
    {
     "name": "stderr",
     "output_type": "stream",
     "text": [
      "Setting levels: control = 1, case = 2\n",
      "\n",
      "Setting direction: controls < cases\n",
      "\n"
     ]
    }
   ],
   "source": [
    "roc_score <-roc(as.numeric(cdf$true_val), as.numeric(cdf$pred_val))\n"
   ]
  },
  {
   "cell_type": "code",
   "execution_count": 114,
   "metadata": {
    "vscode": {
     "languageId": "r"
    }
   },
   "outputs": [
    {
     "data": {
      "image/png": "[encoded data removed]",
      "text/plain": [
       "plot without title"
      ]
     },
     "metadata": {
      "image/png": {
       "height": 420,
       "width": 420
      }
     },
     "output_type": "display_data"
    }
   ],
   "source": [
    "plot(roc_score)"
   ]
  },
  {
   "cell_type": "code",
   "execution_count": 115,
   "metadata": {
    "vscode": {
     "languageId": "r"
    }
   },
   "outputs": [
    {
     "data": {
      "text/html": [
       "0.797385182701978"
      ],
      "text/latex": [
       "0.797385182701978"
      ],
      "text/markdown": [
       "0.797385182701978"
      ],
      "text/plain": [
       "Area under the curve: 0.7974"
      ]
     },
     "metadata": {},
     "output_type": "display_data"
    }
   ],
   "source": [
    "auc(roc_score)"
   ]
  },
  {
   "cell_type": "code",
   "execution_count": null,
   "metadata": {
    "vscode": {
     "languageId": "r"
    }
   },
   "outputs": [],
   "source": []
  }
 ],
 "metadata": {
  "kernelspec": {
   "display_name": "R",
   "language": "R",
   "name": "ir"
  },
  "language_info": {
   "codemirror_mode": "r",
   "file_extension": ".r",
   "mimetype": "text/x-r-source",
   "name": "R",
   "pygments_lexer": "r",
   "version": "4.2.2"
  },
  "orig_nbformat": 4
 },
 "nbformat": 4,
 "nbformat_minor": 2
}
