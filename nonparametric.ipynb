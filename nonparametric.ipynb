{
 "cells": [
  {
   "cell_type": "code",
   "execution_count": 265,
   "metadata": {
    "vscode": {
     "languageId": "r"
    }
   },
   "outputs": [],
   "source": [
    "library(caret)"
   ]
  },
  {
   "cell_type": "code",
   "execution_count": 266,
   "metadata": {
    "vscode": {
     "languageId": "r"
    }
   },
   "outputs": [],
   "source": [
    "library(GDINA);\n",
    "library(bnlearn);\n",
    "library(Rgraphviz);"
   ]
  },
  {
   "cell_type": "code",
   "execution_count": 267,
   "metadata": {
    "vscode": {
     "languageId": "r"
    }
   },
   "outputs": [],
   "source": [
    "# Item Response dat of sample sizes I=500 or 2000 were drawn from \n",
    "# discretized multivariate normal distribution with 0 mean and sigma sd.\n",
    "# sigma has unit variance and correlation of rho = 0.3 or 0.6\n",
    "# J = 20 or 40 \n",
    "# item parameters = uniform (0,0.3)\n",
    "sigma <- matrix(rep(0.3, times=25), ncol=5)\n",
    "diag(sigma) <- 1\n",
    "QMat <- read.csv(\"q.csv\")\n",
    "guess <- rep(0.3, nrow(QMat));"
   ]
  },
  {
   "attachments": {},
   "cell_type": "markdown",
   "metadata": {},
   "source": [
    "Generating Simulated Data"
   ]
  },
  {
   "cell_type": "code",
   "execution_count": 268,
   "metadata": {
    "vscode": {
     "languageId": "r"
    }
   },
   "outputs": [],
   "source": [
    "simdat <- CDM::sim.din(N=200,\n",
    "                        QMat, guess = guess, slip = guess,\n",
    "                        Sigma=sigma, rule=\"DINA\")"
   ]
  },
  {
   "cell_type": "code",
   "execution_count": 269,
   "metadata": {
    "vscode": {
     "languageId": "r"
    }
   },
   "outputs": [],
   "source": [
    "obs<-simdat$dat\n",
    "colnames(obs) <- c(\"x1\", \"x2\", \"x3\",\"x4\", \"x5\",\n",
    "                    \"x6\", \"x7\", \"x8\", \"x9\", \"x10\",\n",
    "                    \"x11\", \"x12\", \"x13\", \"x14\", \"x15\",\n",
    "                    \"x16\", \"x17\", \"x18\", \"x19\", \"x20\")\n",
    "obsdf<- as.data.frame(lapply(as.data.frame(obs),factor))"
   ]
  },
  {
   "cell_type": "code",
   "execution_count": 270,
   "metadata": {
    "vscode": {
     "languageId": "r"
    }
   },
   "outputs": [],
   "source": [
    "## This block needs some code cleaning\n",
    "fulldat <- cbind(simdat$dat, simdat$alpha)\n",
    "colnames(fulldat)<- c(\"x1\", \"x2\", \"x3\",\"x4\", \"x5\",\n",
    "                    \"x6\", \"x7\", \"x8\", \"x9\", \"x10\",\n",
    "                    \"x11\", \"x12\", \"x13\", \"x14\", \"x15\",\n",
    "                    \"x16\", \"x17\", \"x18\", \"x19\", \"x20\",\n",
    "                    \"a1\", \"a2\",\"a3\",\"a4\",\"a5\")\n",
    "#fulldat[, colnames(fulldat)] = lapply(fulldat[, colnames(fulldat)], as.factor)\n",
    "fdf <- as.data.frame(fulldat)\n",
    "factoreddata <- data.frame(lapply(fdf, factor))"
   ]
  },
  {
   "cell_type": "code",
   "execution_count": 271,
   "metadata": {
    "vscode": {
     "languageId": "r"
    }
   },
   "outputs": [],
   "source": [
    "rownames(QMat) <- colnames(obsdf)\n",
    "colnames(QMat) <- c(\"a1\", \"a2\", \"a3\", \"a4\", \"a5\")\n",
    "items <- rownames(QMat)"
   ]
  },
  {
   "cell_type": "code",
   "execution_count": 272,
   "metadata": {
    "vscode": {
     "languageId": "r"
    }
   },
   "outputs": [],
   "source": [
    "skills <- colnames(QMat)"
   ]
  },
  {
   "attachments": {},
   "cell_type": "markdown",
   "metadata": {},
   "source": [
    "Creating a list of $\\frac{J \\times (J-1)}{2}$ item-pairs"
   ]
  },
  {
   "cell_type": "code",
   "execution_count": 273,
   "metadata": {
    "vscode": {
     "languageId": "r"
    }
   },
   "outputs": [],
   "source": [
    "itemnames <- rownames(QMat)\n",
    "itemcomb <- t(combn(itemnames,2))"
   ]
  },
  {
   "attachments": {},
   "cell_type": "markdown",
   "metadata": {},
   "source": [
    "Function to test the conditional independence between item pairs "
   ]
  },
  {
   "cell_type": "code",
   "execution_count": 274,
   "metadata": {
    "vscode": {
     "languageId": "r"
    }
   },
   "outputs": [],
   "source": [
    "check_ind <- function(test_type){\n",
    "    cf = list()\n",
    "    # Testing when link is present\n",
    "    # Items that share an attribute should be correlated\n",
    "    for (i in 1:ncol(QMat)){\n",
    "        corr_items <-items[as.logical(QMat[,i])]\n",
    "        test_set <- as.data.frame(t(combn(corr_items,2)))\n",
    "\n",
    "        for (i in 1:nrow(test_set)){\n",
    "        testres <- ci.test(test_set$V1[i], test_set$V2[i], data =obsdf, test = test_type)\n",
    "            if (testres$p.val <= 0.05){\n",
    "            # The null hypothesis that the given set of nodes are independent\n",
    "            # When we have p <0.05, we reject the null\n",
    "                dep <- \"1\"\n",
    "            }\n",
    "            else {\n",
    "                dep <- \"0\"\n",
    "            }\n",
    "        cf <- rbind(cf,c(\"1\",dep))\n",
    "        }\n",
    "    }\n",
    "    # Testing when link is absent \n",
    "    # Theory says obs are independent after we condition on the common attribute  \n",
    "    for (i in 1:nrow(itemcomb)){\n",
    "        indc <- as.logical(QMat[itemcomb[i,][1],] * QMat[itemcomb[i,][2],])\n",
    "        tmp <- ci.test(itemcomb[i,][1], itemcomb[i,][2],skills[indc], \n",
    "                    test = test_type, data=factoreddata)\n",
    "        if(tmp$p.val <= 0.05){\n",
    "            dep <- \"1\" \n",
    "        }\n",
    "        else {\n",
    "        dep <-\"0\"\n",
    "        }\n",
    "        cf <- rbind(cf,c(\"0\",dep))\n",
    "    }\n",
    "    return(cf)\n",
    "}"
   ]
  },
  {
   "cell_type": "code",
   "execution_count": 275,
   "metadata": {
    "vscode": {
     "languageId": "r"
    }
   },
   "outputs": [],
   "source": [
    "#big_cf = list()\n",
    "#for (i in 1:100){\n",
    "#\n",
    "#    simdat <- CDM::sim.din(N=200,\n",
    "#    QMat, guess = guess,    slip = guess,\n",
    "#    Sigma=sigma, rule=\"DINA\")\n",
    "\n",
    "#    obs<-simdat$dat\n",
    "#    colnames(obs) <- c(\"x1\", \"x2\", \"x3\",\"x4\", \"x5\",\n",
    "#                    \"x6\", \"x7\", \"x8\", \"x9\", \"x10\",\n",
    "#                    \"x11\", \"x12\", \"x13\", \"x14\", \"x15\",\n",
    "#                    \"x16\", \"x17\", \"x18\", \"x19\", \"x20\")\n",
    "#    obsdf<- as.data.frame(lapply(as.data.frame(obs),factor))\n",
    "\n",
    "#    fulldat <- cbind(simdat$dat, simdat$alpha)\n",
    "#    colnames(fulldat)<- c(\"x1\", \"x2\", \"x3\",\"x4\", \"x5\",\n",
    "#                    \"x6\", \"x7\", \"x8\", \"x9\", \"x10\",\n",
    "#                    \"x11\", \"x12\", \"x13\", \"x14\", \"x15\",\n",
    "#                    \"x16\", \"x17\", \"x18\", \"x19\", \"x20\",\n",
    "#                    \"a1\", \"a2\",\"a3\",\"a4\",\"a5\")\n",
    "#    #fulldat[, colnames(fulldat)] = lapply(fulldat[, colnames(fulldat)], as.factor)\n",
    "#    fdf <- as.data.frame(fulldat)\n",
    "#    factoreddata <- data.frame(lapply(fdf, factor))\n",
    "#    factoreddata\n",
    "\n",
    "#    rownames(QMat) <- colnames(obsdf)\n",
    "#    colnames(QMat) <- c(\"a1\", \"a2\", \"a3\", \"a4\", \"a5\")\n",
    "#    items <- rownames(QMat)\n",
    "#    skills <- colnames(QMat)\n",
    "#    itemnames <- rownames(QMat)\n",
    "#    itemcomb <- t(combn(itemnames,2))\n",
    "#    res = check_ind(\"mi\")\n",
    "#    big_cf = rbind(big_cf,res)\n",
    "#}"
   ]
  },
  {
   "cell_type": "code",
   "execution_count": 276,
   "metadata": {
    "vscode": {
     "languageId": "r"
    }
   },
   "outputs": [],
   "source": [
    "cf = check_ind(\"x2\")"
   ]
  },
  {
   "cell_type": "code",
   "execution_count": 277,
   "metadata": {
    "vscode": {
     "languageId": "r"
    }
   },
   "outputs": [],
   "source": [
    "trues<- as.data.frame(factor(cf[,1], levels = c('1','0')))\n",
    "preds<- as.data.frame(factor(cf[,2], levels = c('1','0')))\n",
    "cdf <- data.frame(trues,preds)\n",
    "colnames(cdf) <- c(\"true_val\", \"pred_val\")"
   ]
  },
  {
   "cell_type": "code",
   "execution_count": 278,
   "metadata": {
    "vscode": {
     "languageId": "r"
    }
   },
   "outputs": [
    {
     "data": {
      "text/plain": [
       "Confusion Matrix and Statistics\n",
       "\n",
       "          Reference\n",
       "Prediction   1   0\n",
       "         1  49   9\n",
       "         0 108 181\n",
       "                                          \n",
       "               Accuracy : 0.6628          \n",
       "                 95% CI : (0.6104, 0.7124)\n",
       "    No Information Rate : 0.5476          \n",
       "    P-Value [Acc > NIR] : 8.203e-06       \n",
       "                                          \n",
       "                  Kappa : 0.2801          \n",
       "                                          \n",
       " Mcnemar's Test P-Value : < 2.2e-16       \n",
       "                                          \n",
       "            Sensitivity : 0.3121          \n",
       "            Specificity : 0.9526          \n",
       "         Pos Pred Value : 0.8448          \n",
       "         Neg Pred Value : 0.6263          \n",
       "             Prevalence : 0.4524          \n",
       "         Detection Rate : 0.1412          \n",
       "   Detection Prevalence : 0.1671          \n",
       "      Balanced Accuracy : 0.6324          \n",
       "                                          \n",
       "       'Positive' Class : 1               \n",
       "                                          "
      ]
     },
     "metadata": {},
     "output_type": "display_data"
    }
   ],
   "source": [
    "confusionMatrix(data=cdf$pred_val, reference = cdf$true_val)"
   ]
  },
  {
   "cell_type": "code",
   "execution_count": 279,
   "metadata": {
    "vscode": {
     "languageId": "r"
    }
   },
   "outputs": [],
   "source": [
    "library(pROC)"
   ]
  },
  {
   "cell_type": "code",
   "execution_count": 280,
   "metadata": {
    "vscode": {
     "languageId": "r"
    }
   },
   "outputs": [
    {
     "name": "stderr",
     "output_type": "stream",
     "text": [
      "Setting levels: control = 1, case = 2\n",
      "\n",
      "Setting direction: controls < cases\n",
      "\n"
     ]
    }
   ],
   "source": [
    "roc_score <-roc(as.numeric(cdf$true_val), as.numeric(cdf$pred_val))"
   ]
  },
  {
   "cell_type": "code",
   "execution_count": 281,
   "metadata": {
    "vscode": {
     "languageId": "r"
    }
   },
   "outputs": [
    {
     "data": {
      "image/png": "[encoded data removed]",
      "text/plain": [
       "plot without title"
      ]
     },
     "metadata": {
      "image/png": {
       "height": 420,
       "width": 420
      }
     },
     "output_type": "display_data"
    }
   ],
   "source": [
    "plot(roc_score)"
   ]
  },
  {
   "cell_type": "code",
   "execution_count": 282,
   "metadata": {
    "vscode": {
     "languageId": "r"
    }
   },
   "outputs": [
    {
     "data": {
      "text/html": [
       "0.632366744887697"
      ],
      "text/latex": [
       "0.632366744887697"
      ],
      "text/markdown": [
       "0.632366744887697"
      ],
      "text/plain": [
       "Area under the curve: 0.6324"
      ]
     },
     "metadata": {},
     "output_type": "display_data"
    }
   ],
   "source": [
    "auc(roc_score)"
   ]
  }
 ],
 "metadata": {
  "kernelspec": {
   "display_name": "R",
   "language": "R",
   "name": "ir"
  },
  "language_info": {
   "codemirror_mode": "r",
   "file_extension": ".r",
   "mimetype": "text/x-r-source",
   "name": "R",
   "pygments_lexer": "r",
   "version": "4.2.2"
  },
  "orig_nbformat": 4
 },
 "nbformat": 4,
 "nbformat_minor": 2
}
