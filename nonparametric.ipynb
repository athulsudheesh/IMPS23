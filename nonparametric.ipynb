{
 "cells": [
  {
   "cell_type": "code",
   "execution_count": 378,
   "metadata": {
    "vscode": {
     "languageId": "r"
    }
   },
   "outputs": [],
   "source": [
    "library(caret)"
   ]
  },
  {
   "cell_type": "code",
   "execution_count": 379,
   "metadata": {
    "vscode": {
     "languageId": "r"
    }
   },
   "outputs": [],
   "source": [
    "library(GDINA);\n",
    "library(bnlearn);\n",
    "library(Rgraphviz);"
   ]
  },
  {
   "cell_type": "code",
   "execution_count": 380,
   "metadata": {
    "vscode": {
     "languageId": "r"
    }
   },
   "outputs": [],
   "source": [
    "# Item Response dat of sample sizes I=500 or 2000 were drawn from \n",
    "# discretized multivariate normal distribution with 0 mean and sigma sd.\n",
    "# sigma has unit variance and correlation of rho = 0.3 or 0.6\n",
    "# J = 20 or 40 \n",
    "# item parameters = uniform (0,0.3)\n",
    "sigma <- matrix(rep(0.3, times=25), ncol=5)\n",
    "diag(sigma) <- 1\n",
    "QMat <- read.csv(\"q.csv\")\n",
    "guess <- rep(0.3, nrow(QMat));"
   ]
  },
  {
   "attachments": {},
   "cell_type": "markdown",
   "metadata": {},
   "source": [
    "Generating Simulated Data"
   ]
  },
  {
   "cell_type": "code",
   "execution_count": 381,
   "metadata": {
    "vscode": {
     "languageId": "r"
    }
   },
   "outputs": [],
   "source": [
    "simdat <- CDM::sim.din(N=1000,\n",
    "                        QMat, guess = guess, slip = guess,\n",
    "                        Sigma=sigma, rule=\"DINA\")"
   ]
  },
  {
   "cell_type": "code",
   "execution_count": 382,
   "metadata": {
    "vscode": {
     "languageId": "r"
    }
   },
   "outputs": [],
   "source": [
    "obs<-simdat$dat\n",
    "colnames(obs) <- c(\"x1\", \"x2\", \"x3\",\"x4\", \"x5\",\n",
    "                    \"x6\", \"x7\", \"x8\", \"x9\", \"x10\",\n",
    "                    \"x11\", \"x12\", \"x13\", \"x14\", \"x15\",\n",
    "                    \"x16\", \"x17\", \"x18\", \"x19\", \"x20\")\n",
    "obsdf<- as.data.frame(lapply(as.data.frame(obs),factor))"
   ]
  },
  {
   "cell_type": "code",
   "execution_count": 383,
   "metadata": {
    "vscode": {
     "languageId": "r"
    }
   },
   "outputs": [],
   "source": [
    "## This block needs some code cleaning\n",
    "fulldat <- cbind(simdat$dat, simdat$alpha)\n",
    "colnames(fulldat)<- c(\"x1\", \"x2\", \"x3\",\"x4\", \"x5\",\n",
    "                    \"x6\", \"x7\", \"x8\", \"x9\", \"x10\",\n",
    "                    \"x11\", \"x12\", \"x13\", \"x14\", \"x15\",\n",
    "                    \"x16\", \"x17\", \"x18\", \"x19\", \"x20\",\n",
    "                    \"a1\", \"a2\",\"a3\",\"a4\",\"a5\")\n",
    "#fulldat[, colnames(fulldat)] = lapply(fulldat[, colnames(fulldat)], as.factor)\n",
    "fdf <- as.data.frame(fulldat)\n",
    "factoreddata <- data.frame(lapply(fdf, factor))"
   ]
  },
  {
   "cell_type": "code",
   "execution_count": 384,
   "metadata": {
    "vscode": {
     "languageId": "r"
    }
   },
   "outputs": [],
   "source": [
    "rownames(QMat) <- colnames(obsdf)\n",
    "colnames(QMat) <- c(\"a1\", \"a2\", \"a3\", \"a4\", \"a5\")\n",
    "items <- rownames(QMat)"
   ]
  },
  {
   "cell_type": "code",
   "execution_count": 385,
   "metadata": {
    "vscode": {
     "languageId": "r"
    }
   },
   "outputs": [],
   "source": [
    "skills <- colnames(QMat)"
   ]
  },
  {
   "attachments": {},
   "cell_type": "markdown",
   "metadata": {},
   "source": [
    "Creating a list of $\\frac{J \\times (J-1)}{2}$ item-pairs"
   ]
  },
  {
   "cell_type": "code",
   "execution_count": 386,
   "metadata": {
    "vscode": {
     "languageId": "r"
    }
   },
   "outputs": [],
   "source": [
    "itemnames <- rownames(QMat)\n",
    "itemcomb <- t(combn(itemnames,2))"
   ]
  },
  {
   "attachments": {},
   "cell_type": "markdown",
   "metadata": {},
   "source": [
    "Function to test the conditional independence between item pairs "
   ]
  },
  {
   "cell_type": "code",
   "execution_count": 387,
   "metadata": {
    "vscode": {
     "languageId": "r"
    }
   },
   "outputs": [],
   "source": [
    "check_ind <- function(test_type){\n",
    "    cf = list()\n",
    "    # Testing when link is present\n",
    "    # Items that share an attribute should be correlated\n",
    "    for (i in 1:ncol(QMat)){\n",
    "        corr_items <-items[as.logical(QMat[,i])]\n",
    "        test_set <- as.data.frame(t(combn(corr_items,2)))\n",
    "\n",
    "        for (i in 1:nrow(test_set)){\n",
    "        testres <- ci.test(test_set$V1[i], test_set$V2[i], data =obsdf, test = test_type)\n",
    "            if (testres$p.val <= 0.05){\n",
    "            # The null hypothesis that the given set of nodes are independent\n",
    "            # When we have p <0.05, we reject the null\n",
    "                dep <- \"1\"\n",
    "            }\n",
    "            else {\n",
    "                dep <- \"0\"\n",
    "            }\n",
    "        cf <- rbind(cf,c(\"1\",dep))\n",
    "        }\n",
    "    }\n",
    "    # Testing when link is absent \n",
    "    # Theory says obs are independent after we condition on the common attribute  \n",
    "    for (i in 1:nrow(itemcomb)){\n",
    "        indc <- as.logical(QMat[itemcomb[i,][1],] * QMat[itemcomb[i,][2],])\n",
    "        tmp <- ci.test(itemcomb[i,][1], itemcomb[i,][2],skills[indc], \n",
    "                    test = test_type, data=factoreddata)\n",
    "        if(tmp$p.val <= 0.05){\n",
    "            dep <- \"1\" \n",
    "        }\n",
    "        else {\n",
    "        dep <-\"0\"\n",
    "        }\n",
    "        cf <- rbind(cf,c(\"0\",dep))\n",
    "    }\n",
    "    return(cf)\n",
    "}"
   ]
  },
  {
   "cell_type": "code",
   "execution_count": 367,
   "metadata": {
    "vscode": {
     "languageId": "r"
    }
   },
   "outputs": [],
   "source": [
    "#big_cf = list()\n",
    "#for (i in 1:100){\n",
    "#\n",
    "#    simdat <- CDM::sim.din(N=200,\n",
    "#    QMat, guess = guess,    slip = guess,\n",
    "#    Sigma=sigma, rule=\"DINA\")\n",
    "\n",
    "#    obs<-simdat$dat\n",
    "#    colnames(obs) <- c(\"x1\", \"x2\", \"x3\",\"x4\", \"x5\",\n",
    "#                    \"x6\", \"x7\", \"x8\", \"x9\", \"x10\",\n",
    "#                    \"x11\", \"x12\", \"x13\", \"x14\", \"x15\",\n",
    "#                    \"x16\", \"x17\", \"x18\", \"x19\", \"x20\")\n",
    "#    obsdf<- as.data.frame(lapply(as.data.frame(obs),factor))\n",
    "\n",
    "#    fulldat <- cbind(simdat$dat, simdat$alpha)\n",
    "#    colnames(fulldat)<- c(\"x1\", \"x2\", \"x3\",\"x4\", \"x5\",\n",
    "#                    \"x6\", \"x7\", \"x8\", \"x9\", \"x10\",\n",
    "#                    \"x11\", \"x12\", \"x13\", \"x14\", \"x15\",\n",
    "#                    \"x16\", \"x17\", \"x18\", \"x19\", \"x20\",\n",
    "#                    \"a1\", \"a2\",\"a3\",\"a4\",\"a5\")\n",
    "#    #fulldat[, colnames(fulldat)] = lapply(fulldat[, colnames(fulldat)], as.factor)\n",
    "#    fdf <- as.data.frame(fulldat)\n",
    "#    factoreddata <- data.frame(lapply(fdf, factor))\n",
    "#    factoreddata\n",
    "\n",
    "#    rownames(QMat) <- colnames(obsdf)\n",
    "#    colnames(QMat) <- c(\"a1\", \"a2\", \"a3\", \"a4\", \"a5\")\n",
    "#    items <- rownames(QMat)\n",
    "#    skills <- colnames(QMat)\n",
    "#    itemnames <- rownames(QMat)\n",
    "#    itemcomb <- t(combn(itemnames,2))\n",
    "#    res = check_ind(\"mi\")\n",
    "#    big_cf = rbind(big_cf,res)\n",
    "#}"
   ]
  },
  {
   "cell_type": "code",
   "execution_count": 388,
   "metadata": {
    "vscode": {
     "languageId": "r"
    }
   },
   "outputs": [],
   "source": [
    "cf = check_ind(\"x2\")"
   ]
  },
  {
   "cell_type": "code",
   "execution_count": 389,
   "metadata": {
    "vscode": {
     "languageId": "r"
    }
   },
   "outputs": [],
   "source": [
    "trues<- as.data.frame(factor(cf[,1], levels = c('1','0')))\n",
    "preds<- as.data.frame(factor(cf[,2], levels = c('1','0')))\n",
    "cdf <- data.frame(trues,preds)\n",
    "colnames(cdf) <- c(\"true_val\", \"pred_val\")"
   ]
  },
  {
   "cell_type": "code",
   "execution_count": 409,
   "metadata": {
    "vscode": {
     "languageId": "r"
    }
   },
   "outputs": [],
   "source": [
    "cf <- confusionMatrix(data=cdf$pred_val, reference = cdf$true_val)"
   ]
  },
  {
   "cell_type": "code",
   "execution_count": 413,
   "metadata": {
    "vscode": {
     "languageId": "r"
    }
   },
   "outputs": [
    {
     "data": {
      "text/html": [
       "<strong>$names</strong> = <style>\n",
       ".list-inline {list-style: none; margin:0; padding: 0}\n",
       ".list-inline>li {display: inline-block}\n",
       ".list-inline>li:not(:last-child)::after {content: \"\\00b7\"; padding: 0 .5ex}\n",
       "</style>\n",
       "<ol class=list-inline><li>'Sensitivity'</li><li>'Specificity'</li><li>'Pos Pred Value'</li><li>'Neg Pred Value'</li><li>'Precision'</li><li>'Recall'</li><li>'F1'</li><li>'Prevalence'</li><li>'Detection Rate'</li><li>'Detection Prevalence'</li><li>'Balanced Accuracy'</li></ol>\n"
      ],
      "text/latex": [
       "\\textbf{\\$names} = \\begin{enumerate*}\n",
       "\\item 'Sensitivity'\n",
       "\\item 'Specificity'\n",
       "\\item 'Pos Pred Value'\n",
       "\\item 'Neg Pred Value'\n",
       "\\item 'Precision'\n",
       "\\item 'Recall'\n",
       "\\item 'F1'\n",
       "\\item 'Prevalence'\n",
       "\\item 'Detection Rate'\n",
       "\\item 'Detection Prevalence'\n",
       "\\item 'Balanced Accuracy'\n",
       "\\end{enumerate*}\n"
      ],
      "text/markdown": [
       "**$names** = 1. 'Sensitivity'\n",
       "2. 'Specificity'\n",
       "3. 'Pos Pred Value'\n",
       "4. 'Neg Pred Value'\n",
       "5. 'Precision'\n",
       "6. 'Recall'\n",
       "7. 'F1'\n",
       "8. 'Prevalence'\n",
       "9. 'Detection Rate'\n",
       "10. 'Detection Prevalence'\n",
       "11. 'Balanced Accuracy'\n",
       "\n",
       "\n"
      ],
      "text/plain": [
       "$names\n",
       " [1] \"Sensitivity\"          \"Specificity\"          \"Pos Pred Value\"      \n",
       " [4] \"Neg Pred Value\"       \"Precision\"            \"Recall\"              \n",
       " [7] \"F1\"                   \"Prevalence\"           \"Detection Rate\"      \n",
       "[10] \"Detection Prevalence\" \"Balanced Accuracy\"   \n"
      ]
     },
     "metadata": {},
     "output_type": "display_data"
    }
   ],
   "source": [
    "attributes(cf$byClass)"
   ]
  },
  {
   "cell_type": "code",
   "execution_count": 391,
   "metadata": {
    "vscode": {
     "languageId": "r"
    }
   },
   "outputs": [],
   "source": [
    "library(pROC)"
   ]
  },
  {
   "cell_type": "code",
   "execution_count": 402,
   "metadata": {
    "vscode": {
     "languageId": "r"
    }
   },
   "outputs": [
    {
     "name": "stderr",
     "output_type": "stream",
     "text": [
      "Setting levels: control = 1, case = 2\n",
      "\n",
      "Setting direction: controls < cases\n",
      "\n"
     ]
    }
   ],
   "source": [
    "roc_score <-roc(as.numeric(cdf$true_val), as.numeric(cdf$pred_val), thresholds = c(0.1,0.001,1))"
   ]
  },
  {
   "cell_type": "code",
   "execution_count": 404,
   "metadata": {
    "vscode": {
     "languageId": "r"
    }
   },
   "outputs": [
    {
     "data": {
      "text/html": [
       "<dl>\n",
       "\t<dt>$names</dt>\n",
       "\t\t<dd><style>\n",
       ".list-inline {list-style: none; margin:0; padding: 0}\n",
       ".list-inline>li {display: inline-block}\n",
       ".list-inline>li:not(:last-child)::after {content: \"\\00b7\"; padding: 0 .5ex}\n",
       "</style>\n",
       "<ol class=list-inline><li>'percent'</li><li>'sensitivities'</li><li>'specificities'</li><li>'thresholds'</li><li>'direction'</li><li>'cases'</li><li>'controls'</li><li>'fun.sesp'</li><li>'auc'</li><li>'call'</li><li>'original.predictor'</li><li>'original.response'</li><li>'predictor'</li><li>'response'</li><li>'levels'</li></ol>\n",
       "</dd>\n",
       "\t<dt>$class</dt>\n",
       "\t\t<dd>'roc'</dd>\n",
       "</dl>\n"
      ],
      "text/latex": [
       "\\begin{description}\n",
       "\\item[\\$names] \\begin{enumerate*}\n",
       "\\item 'percent'\n",
       "\\item 'sensitivities'\n",
       "\\item 'specificities'\n",
       "\\item 'thresholds'\n",
       "\\item 'direction'\n",
       "\\item 'cases'\n",
       "\\item 'controls'\n",
       "\\item 'fun.sesp'\n",
       "\\item 'auc'\n",
       "\\item 'call'\n",
       "\\item 'original.predictor'\n",
       "\\item 'original.response'\n",
       "\\item 'predictor'\n",
       "\\item 'response'\n",
       "\\item 'levels'\n",
       "\\end{enumerate*}\n",
       "\n",
       "\\item[\\$class] 'roc'\n",
       "\\end{description}\n"
      ],
      "text/markdown": [
       "$names\n",
       ":   1. 'percent'\n",
       "2. 'sensitivities'\n",
       "3. 'specificities'\n",
       "4. 'thresholds'\n",
       "5. 'direction'\n",
       "6. 'cases'\n",
       "7. 'controls'\n",
       "8. 'fun.sesp'\n",
       "9. 'auc'\n",
       "10. 'call'\n",
       "11. 'original.predictor'\n",
       "12. 'original.response'\n",
       "13. 'predictor'\n",
       "14. 'response'\n",
       "15. 'levels'\n",
       "\n",
       "\n",
       "\n",
       "$class\n",
       ":   'roc'\n",
       "\n",
       "\n"
      ],
      "text/plain": [
       "$names\n",
       " [1] \"percent\"            \"sensitivities\"      \"specificities\"     \n",
       " [4] \"thresholds\"         \"direction\"          \"cases\"             \n",
       " [7] \"controls\"           \"fun.sesp\"           \"auc\"               \n",
       "[10] \"call\"               \"original.predictor\" \"original.response\" \n",
       "[13] \"predictor\"          \"response\"           \"levels\"            \n",
       "\n",
       "$class\n",
       "[1] \"roc\"\n"
      ]
     },
     "metadata": {},
     "output_type": "display_data"
    }
   ],
   "source": [
    "attributes(roc_score)"
   ]
  },
  {
   "cell_type": "code",
   "execution_count": 408,
   "metadata": {
    "vscode": {
     "languageId": "r"
    }
   },
   "outputs": [
    {
     "data": {
      "image/png": "[encoded data removed]",
      "text/plain": [
       "plot without title"
      ]
     },
     "metadata": {
      "image/png": {
       "height": 420,
       "width": 420
      }
     },
     "output_type": "display_data"
    }
   ],
   "source": [
    "plot(roc_score$specificities, roc_score$sensitivities,type=\"l\")"
   ]
  },
  {
   "cell_type": "code",
   "execution_count": 399,
   "metadata": {
    "vscode": {
     "languageId": "r"
    }
   },
   "outputs": [
    {
     "ename": "ERROR",
     "evalue": "Error in parse(text = x, srcfile = src): <text>:1:47: unexpected numeric constant\n1: ci.thresholds(roc_score, thresholds = c(0.1,.0.01\n                                                  ^\n",
     "output_type": "error",
     "traceback": [
      "Error in parse(text = x, srcfile = src): <text>:1:47: unexpected numeric constant\n1: ci.thresholds(roc_score, thresholds = c(0.1,.0.01\n                                                  ^\nTraceback:\n"
     ]
    }
   ],
   "source": [
    "ci.thresholds(roc_score, thresholds = c(0.1,.0.01,1))"
   ]
  },
  {
   "cell_type": "code",
   "execution_count": 377,
   "metadata": {
    "vscode": {
     "languageId": "r"
    }
   },
   "outputs": [
    {
     "ename": "ERROR",
     "evalue": "Error in h(simpleError(msg, call)): error in evaluating the argument 'x' in selecting a method for function 'mean': 'list' object cannot be coerced to type 'double'\n",
     "output_type": "error",
     "traceback": [
      "Error in h(simpleError(msg, call)): error in evaluating the argument 'x' in selecting a method for function 'mean': 'list' object cannot be coerced to type 'double'\nTraceback:\n",
      "1. mean(as.numeric(roc_score), na.rm = TRUE)",
      "2. .handleSimpleError(function (cond) \n . .Internal(C_tryCatchHelper(addr, 1L, cond)), \"'list' object cannot be coerced to type 'double'\", \n .     base::quote(mean(as.numeric(roc_score), na.rm = TRUE)))",
      "3. h(simpleError(msg, call))"
     ]
    }
   ],
   "source": [
    " mean(as.numeric(roc_score), na.rm=TRUE)"
   ]
  },
  {
   "cell_type": "code",
   "execution_count": 396,
   "metadata": {
    "vscode": {
     "languageId": "r"
    }
   },
   "outputs": [
    {
     "data": {
      "image/png": "[encoded data removed]",
      "text/plain": [
       "plot without title"
      ]
     },
     "metadata": {
      "image/png": {
       "height": 420,
       "width": 420
      }
     },
     "output_type": "display_data"
    }
   ],
   "source": [
    "plot(roc_score)"
   ]
  },
  {
   "cell_type": "code",
   "execution_count": 374,
   "metadata": {
    "vscode": {
     "languageId": "r"
    }
   },
   "outputs": [
    {
     "data": {
      "text/html": [
       "0.787713711029165"
      ],
      "text/latex": [
       "0.787713711029165"
      ],
      "text/markdown": [
       "0.787713711029165"
      ],
      "text/plain": [
       "Area under the curve: 0.7877"
      ]
     },
     "metadata": {},
     "output_type": "display_data"
    }
   ],
   "source": [
    "auc(roc_score)"
   ]
  }
 ],
 "metadata": {
  "kernelspec": {
   "display_name": "R",
   "language": "R",
   "name": "ir"
  },
  "language_info": {
   "codemirror_mode": "r",
   "file_extension": ".r",
   "mimetype": "text/x-r-source",
   "name": "R",
   "pygments_lexer": "r",
   "version": "4.2.2"
  },
  "orig_nbformat": 4
 },
 "nbformat": 4,
 "nbformat_minor": 2
}
